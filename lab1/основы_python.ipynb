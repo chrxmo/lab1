{
 "cells": [
  {
   "cell_type": "markdown",
   "metadata": {
    "id": "M-DGa20PaHnu"
   },
   "source": [
    "# Задача 1\n",
    "Написать функцию на вход которой подается строка, состоящая из латинских букв.\n",
    "Функция должна вернуть количество гласных букв (a, e, i, o, u) в этой строке. Написать тесты для кода"
   ]
  },
  {
   "cell_type": "code",
   "execution_count": null,
   "metadata": {
    "id": "XvX8X_JJ6PCb"
   },
   "outputs": [
    {
     "name": "stdout",
     "output_type": "stream",
     "text": [
      "Все тесты пройдены успешно!\n",
      "count_vowels('hello'): 2\n",
      "count_vowels('WORLD'): 1\n",
      "count_vowels('Python'): 1\n",
      "count_vowels('aeiou'): 5\n",
      "count_vowels('bcdfg'): 0\n"
     ]
    }
   ],
   "source": [
    "import sys\n",
    "import subprocess\n",
    "\n",
    "def run_command(command):\n",
    "    try:\n",
    "        result = subprocess.run(command, shell=True, check=True, text=True, capture_output=True)\n",
    "        return result.stdout.strip()\n",
    "    except subprocess.CalledProcessError as e:\n",
    "        print(f\"Error running command '{command}': {e}\", file=sys.stderr)\n",
    "        sys.exit(1)\n",
    "\n",
    "def count_vowels(s):\n",
    "    vowels = 'aeiou'\n",
    "    count = 0\n",
    "    for char in s.lower():\n",
    "        if char in vowels:\n",
    "            count += 1\n",
    "    return count\n",
    "\n",
    "def test_count_vowels():\n",
    "    assert count_vowels(\"hello\") == 2\n",
    "    assert count_vowels(\"aeiou\") == 5\n",
    "    assert count_vowels(\"bcdfg\") == 0\n",
    "    assert count_vowels(\"\") == 0\n",
    "    assert count_vowels(\"HELLO\") == 2\n",
    "    assert count_vowels(\"Python\") == 1\n",
    "    assert count_vowels(\"programming\") == 3\n",
    "    print(\"Все тесты пройдены успешно!\")\n",
    "\n",
    "test_count_vowels()\n",
    "\n",
    "print(f\"count_vowels('hello'): {count_vowels('hello')}\")\n",
    "print(f\"count_vowels('WORLD'): {count_vowels('WORLD')}\")\n",
    "print(f\"count_vowels('Python'): {count_vowels('Python')}\")\n",
    "print(f\"count_vowels('aeiou'): {count_vowels('aeiou')}\")\n",
    "print(f\"count_vowels('bcdfg'): {count_vowels('bcdfg')}\")\n"
   ]
  },
  {
   "cell_type": "markdown",
   "metadata": {
    "id": "t2ClV_Y0bbr6"
   },
   "source": [
    "# Задача 2\n",
    "Написать функцию на вход, которой подается строка. Функция должна вернуть true, если\n",
    "каждый символ в строке встречается только 1 раз, иначе должна вернуть false. Написать тесты для кода"
   ]
  },
  {
   "cell_type": "code",
   "execution_count": null,
   "metadata": {
    "id": "FppbECao6VIz"
   },
   "outputs": [
    {
     "name": "stdout",
     "output_type": "stream",
     "text": [
      "Все тесты для is_unique_chars пройдены успешно!\n",
      "Все тесты для is_unique_chars_v2 пройдены успешно!\n",
      "\n",
      "Примеры использования:\n",
      "is_unique_chars('abcdef'): True\n",
      "is_unique_chars('hello'): False\n",
      "is_unique_chars('Python'): True\n",
      "is_unique_chars('programming'): False\n",
      "is_unique_chars('abc123'): True\n",
      "is_unique_chars(''): True\n",
      "is_unique_chars('a'): True\n"
     ]
    }
   ],
   "source": [
    "def is_unique_chars(s):\n",
    "    return len(s) == len(set(s))\n",
    "\n",
    "def is_unique_chars_v2(s):\n",
    "    char_count = {}\n",
    "    for char in s:\n",
    "        if char in char_count:\n",
    "            return False\n",
    "        char_count[char] = 1\n",
    "    return True\n",
    "\n",
    "def test_is_unique_chars():\n",
    "    assert is_unique_chars(\"abcdef\") == True\n",
    "    assert is_unique_chars(\"hello\") == False\n",
    "    assert is_unique_chars(\"\") == True\n",
    "    assert is_unique_chars(\"a\") == True\n",
    "    assert is_unique_chars(\"abcabc\") == False\n",
    "    assert is_unique_chars(\"abc123\") == True\n",
    "    assert is_unique_chars(\"abc123a\") == False\n",
    "    assert is_unique_chars(\"ab c\") == True\n",
    "    assert is_unique_chars(\"a b a\") == False\n",
    "    assert is_unique_chars(\"a  b\") == False\n",
    "    print(\"Все тесты для is_unique_chars пройдены успешно!\")\n",
    "\n",
    "def test_is_unique_chars_v2():\n",
    "    test_strings = [\"abcdef\", \"hello\", \"\", \"a\", \"abcabc\", \"abc123\", \"abc123a\", \"ab c\", \"a b a\", \"a  b\"]\n",
    "    \n",
    "    for test_str in test_strings:\n",
    "        result1 = is_unique_chars(test_str)\n",
    "        result2 = is_unique_chars_v2(test_str)\n",
    "        assert result1 == result2, f\"Ошибка: результаты не совпадают для строки '{test_str}'\"\n",
    "    \n",
    "    print(\"Все тесты для is_unique_chars_v2 пройдены успешно!\")\n",
    "\n",
    "test_is_unique_chars()\n",
    "test_is_unique_chars_v2()\n",
    "\n",
    "print(\"\\nПримеры использования:\")\n",
    "print(f\"is_unique_chars('abcdef'): {is_unique_chars('abcdef')}\")\n",
    "print(f\"is_unique_chars('hello'): {is_unique_chars('hello')}\")\n",
    "print(f\"is_unique_chars('Python'): {is_unique_chars('Python')}\")\n",
    "print(f\"is_unique_chars('programming'): {is_unique_chars('programming')}\")\n",
    "print(f\"is_unique_chars('abc123'): {is_unique_chars('abc123')}\")\n",
    "print(f\"is_unique_chars(''): {is_unique_chars('')}\")\n",
    "print(f\"is_unique_chars('a'): {is_unique_chars('a')}\")\n"
   ]
  },
  {
   "cell_type": "markdown",
   "metadata": {
    "id": "udRiIK1cdt6E"
   },
   "source": [
    "# Задача 3\n",
    "Написать функцию, которая принимает положительное число и возвращает количество\n",
    "бит равных 1 в этом числе. Написать тесты для кода"
   ]
  },
  {
   "cell_type": "code",
   "execution_count": null,
   "metadata": {
    "id": "6tkfDJRz6dp_"
   },
   "outputs": [
    {
     "name": "stdout",
     "output_type": "stream",
     "text": [
      "Все тесты для count_ones_in_binary пройдены успешно!\n",
      "count_ones_in_binary(7): 3\n",
      "count_ones_in_binary(15): 4\n",
      "count_ones_in_binary(255): 8\n"
     ]
    }
   ],
   "source": [
    "def count_ones_in_binary(n):\n",
    "    return bin(n).count('1')\n",
    "\n",
    "def test_count_ones_in_binary():\n",
    "    assert count_ones_in_binary(1) == 1\n",
    "    assert count_ones_in_binary(2) == 1\n",
    "    assert count_ones_in_binary(3) == 2\n",
    "    assert count_ones_in_binary(7) == 3\n",
    "    assert count_ones_in_binary(8) == 1\n",
    "    assert count_ones_in_binary(15) == 4\n",
    "    assert count_ones_in_binary(255) == 8\n",
    "    print(\"Все тесты для count_ones_in_binary пройдены успешно!\")\n",
    "\n",
    "test_count_ones_in_binary()\n",
    "\n",
    "print(f\"count_ones_in_binary(7): {count_ones_in_binary(7)}\")\n",
    "print(f\"count_ones_in_binary(15): {count_ones_in_binary(15)}\")\n",
    "print(f\"count_ones_in_binary(255): {count_ones_in_binary(255)}\")"
   ]
  },
  {
   "cell_type": "markdown",
   "metadata": {
    "id": "26dDUz-Ae17N"
   },
   "source": [
    "# Задача 4\n",
    "Написать функцию, которая принимает положительное число. Функция должна вернуть то,\n",
    "сколько раз необходимо перемножать цифры числа или результат перемножения, чтобы\n",
    "получилось число состоящее из одной цифры.\n",
    "Например, для входного числа:\n",
    "· 39 функция должна вернуть 3, так как 3*9=27 => 2*7=14 => 1*4=4\n",
    "· 4 функция должна вернуть 0, так как число уже состоит из одной цифры\n",
    "· 999 функция должна вернуть 4, так как 9*9*9=729 => 7*2*9=126 => 1*2*6=12 =>\n",
    "1*2=2. Написать тесты для кода"
   ]
  },
  {
   "cell_type": "code",
   "execution_count": null,
   "metadata": {
    "id": "BH1A_Mgi6i4G"
   },
   "outputs": [
    {
     "name": "stdout",
     "output_type": "stream",
     "text": [
      "Все тесты для magic пройдены успешно!\n",
      "\n",
      "Демонстрация работы функции:\n",
      "magic(39) = 3: 39 => 3*9=27 => 2*7=14 => 1*4=4\n",
      "magic(999) = 4: 999 => 9*9*9=729 => 7*2*9=126 => 1*2*6=12 => 1*2=2\n",
      "magic(25) = 2: 25 => 2*5=10 => 1*0=0\n",
      "magic(77) = 4: 77 => 7*7=49 => 4*9=36 => 3*6=18 => 1*8=8\n",
      "magic(4) = 0 (число уже однозначное)\n",
      "magic(102) = 1: 102 => 1*0*2=0\n",
      "magic(29) = 2: 29 => 2*9=18 => 1*8=8\n"
     ]
    }
   ],
   "source": [
    "def magic(n):\n",
    "    if n < 10:\n",
    "        return 0\n",
    "    \n",
    "    count = 0\n",
    "    while n >= 10:\n",
    "        product = 1\n",
    "        for digit in str(n):\n",
    "            product *= int(digit)\n",
    "        n = product\n",
    "        count += 1\n",
    "    \n",
    "    return count\n",
    "\n",
    "def test_magic():\n",
    "    assert magic(4) == 0\n",
    "    assert magic(39) == 3\n",
    "    assert magic(999) == 4\n",
    "    assert magic(25) == 2\n",
    "    assert magic(102) == 1\n",
    "    assert magic(77) == 4\n",
    "    assert magic(29) == 2\n",
    "    print(\"Все тесты для magic пройдены успешно!\")\n",
    "\n",
    "def demonstrate_magic():\n",
    "    test_numbers = [39, 999, 25, 77, 4, 102, 29]\n",
    "    \n",
    "    for num in test_numbers:\n",
    "        steps = []\n",
    "        n = num\n",
    "        count = 0\n",
    "        \n",
    "        if n < 10:\n",
    "            print(f\"magic({num}) = 0 (число уже однозначное)\")\n",
    "            continue\n",
    "            \n",
    "        steps.append(str(n))\n",
    "        \n",
    "        while n >= 10:\n",
    "            product = 1\n",
    "            digits = [int(d) for d in str(n)]\n",
    "            for digit in digits:\n",
    "                product *= digit\n",
    "            n = product\n",
    "            count += 1\n",
    "            steps.append(f\"{'*'.join(map(str, digits))}={n}\")\n",
    "        \n",
    "        print(f\"magic({num}) = {count}: {' => '.join(steps)}\")\n",
    "\n",
    "test_magic()\n",
    "\n",
    "print(\"\\nДемонстрация работы функции:\")\n",
    "demonstrate_magic()"
   ]
  },
  {
   "cell_type": "markdown",
   "metadata": {
    "id": "0nS-kIa8g8vd"
   },
   "source": [
    "# Задача 5\n",
    "Написать функцию, которая принимает два целочисленных вектора одинаковой длины и\n",
    "возвращает среднеквадратическое отклонение двух векторов. Написать тесты для кода"
   ]
  },
  {
   "cell_type": "code",
   "execution_count": 13,
   "metadata": {
    "id": "8iphx4LM6xbx"
   },
   "outputs": [
    {
     "name": "stdout",
     "output_type": "stream",
     "text": [
      "Все тесты для mse пройдены успешно!\n",
      "Тесты обработки ошибок пройдены успешно!\n",
      "\n",
      "Примеры использования:\n",
      "mse([1, 2, 3], [1, 2, 3]): 0.0\n",
      "mse([1, 2, 3], [2, 3, 4]): 1.0\n",
      "mse([0, 0, 0], [1, 1, 1]): 1.0\n",
      "mse([1.5, 2.5], [1.0, 2.0]): 0.25\n"
     ]
    }
   ],
   "source": [
    "def mse(pred, true):\n",
    "    if len(pred) != len(true):\n",
    "        raise ValueError(\"Векторы должны иметь одинаковую длину\")\n",
    "    \n",
    "    if len(pred) == 0:\n",
    "        raise ValueError(\"Векторы не могут быть пустыми\")\n",
    "    \n",
    "    sum_squared_errors = 0\n",
    "    for i in range(len(pred)):\n",
    "        sum_squared_errors += (pred[i] - true[i]) ** 2\n",
    "    \n",
    "    return sum_squared_errors / len(pred)\n",
    "\n",
    "def test_mse():    \n",
    "    assert mse([1, 2, 3], [1, 2, 3]) == 0, \"Ошибка: MSE идентичных векторов должно быть 0\"\n",
    "    \n",
    "    assert mse([1, 2, 3], [2, 3, 4]) == 1, \"Ошибка: MSE должно быть 1\"\n",
    "    \n",
    "    assert mse([0, 0, 0], [1, 1, 1]) == 1, \"Ошибка: MSE должно быть 1\"\n",
    "    \n",
    "    result = mse([-1, -2, -3], [1, 2, 3])\n",
    "    expected = (4 + 16 + 36) / 3\n",
    "    assert abs(result - expected) < 1e-10, f\"Ошибка: MSE должно быть {expected}, получено {result}\"\n",
    "    \n",
    "    assert mse([5], [3]) == 4, \"Ошибка: MSE должно быть 4\"\n",
    "    \n",
    "    result = mse([1.5, 2.5], [1.0, 2.0])\n",
    "    assert abs(result - 0.25) < 1e-10, \"Ошибка: MSE должно быть 0.25\"\n",
    "    \n",
    "    print(\"Все тесты для mse пройдены успешно!\")\n",
    "\n",
    "def test_mse_errors():\n",
    "    try:\n",
    "        mse([1, 2], [1, 2, 3])\n",
    "        assert False, \"Должна быть ошибка для векторов разной длины\"\n",
    "    except ValueError:\n",
    "        pass\n",
    "    \n",
    "    try:\n",
    "        mse([], [])\n",
    "        assert False, \"Должна быть ошибка для пустых векторов\"\n",
    "    except ValueError:\n",
    "        pass\n",
    "    \n",
    "    print(\"Тесты обработки ошибок пройдены успешно!\")\n",
    "    \n",
    "test_mse()\n",
    "test_mse_errors()\n",
    "\n",
    "print(\"\\nПримеры использования:\")\n",
    "print(f\"mse([1, 2, 3], [1, 2, 3]): {mse([1, 2, 3], [1, 2, 3])}\")\n",
    "print(f\"mse([1, 2, 3], [2, 3, 4]): {mse([1, 2, 3], [2, 3, 4])}\")\n",
    "print(f\"mse([0, 0, 0], [1, 1, 1]): {mse([0, 0, 0], [1, 1, 1])}\")\n",
    "print(f\"mse([1.5, 2.5], [1.0, 2.0]): {mse([1.5, 2.5], [1.0, 2.0])}\")"
   ]
  },
  {
   "cell_type": "markdown",
   "metadata": {
    "id": "vpIPKL439zkw"
   },
   "source": [
    "# Задача 6\n",
    "Написать функцию, принимающая целое положительное число. Функция должна вернуть\n",
    "строку вида “(n1**p1)(n2**p2)…(nk**pk)” представляющая разложение числа на простые\n",
    "множители (если pi == 1, то выводить только ni).\n",
    "Например, для числа 86240 функция должна вернуть “(2**5)(5)(7**2)(11)”. Написать тесты для кода"
   ]
  },
  {
   "cell_type": "code",
   "execution_count": null,
   "metadata": {
    "id": "pFebmcZk94Jw"
   },
   "outputs": [
    {
     "name": "stdout",
     "output_type": "stream",
     "text": [
      "Все тесты для prime_factorization пройдены успешно!\n",
      "\n",
      "\n",
      "Демонстрация разложения на простые множители:\n",
      "86240 = (2**5)(5)(7**2)(11)\n",
      "12 = (2**2)(3)\n",
      "30 = (2)(3)(5)\n",
      "100 = (2**2)(5**2)\n",
      "7 = (7)\n",
      "8 = (2**3)\n",
      "60 = (2**2)(3)(5)\n",
      "\n",
      "prime_factorization(86240): (2**5)(5)(7**2)(11)\n",
      "prime_factorization(60): (2**2)(3)(5)\n",
      "prime_factorization(7): (7)\n"
     ]
    }
   ],
   "source": [
    "def prime_factorization(n):\n",
    "    if n <= 1:\n",
    "        return \"\"\n",
    "    \n",
    "    factors = {}\n",
    "    divisor = 2\n",
    "    \n",
    "    while divisor * divisor <= n:\n",
    "        while n % divisor == 0:\n",
    "            factors[divisor] = factors.get(divisor, 0) + 1\n",
    "            n //= divisor\n",
    "        divisor += 1\n",
    "    \n",
    "    if n > 1:\n",
    "        factors[n] = factors.get(n, 0) + 1\n",
    "    \n",
    "    result = \"\"\n",
    "    for prime in sorted(factors.keys()):\n",
    "        power = factors[prime]\n",
    "        if power == 1:\n",
    "            result += f\"({prime})\"\n",
    "        else:\n",
    "            result += f\"({prime}**{power})\"\n",
    "    \n",
    "    return result\n",
    "\n",
    "def test_prime_factorization():\n",
    "    assert prime_factorization(86240) == \"(2**5)(5)(7**2)(11)\", \"Ошибка для числа 86240\"\n",
    "    assert prime_factorization(7) == \"(7)\", \"Ошибка для простого числа 7\"\n",
    "    assert prime_factorization(13) == \"(13)\", \"Ошибка для простого числа 13\"\n",
    "    assert prime_factorization(8) == \"(2**3)\", \"Ошибка для числа 8\"\n",
    "    assert prime_factorization(27) == \"(3**3)\", \"Ошибка для числа 27\"\n",
    "    assert prime_factorization(6) == \"(2)(3)\", \"Ошибка для числа 6\"\n",
    "    assert prime_factorization(30) == \"(2)(3)(5)\", \"Ошибка для числа 30\"\n",
    "    assert prime_factorization(12) == \"(2**2)(3)\", \"Ошибка для числа 12\"\n",
    "    assert prime_factorization(60) == \"(2**2)(3)(5)\", \"Ошибка для числа 60\"\n",
    "    assert prime_factorization(100) == \"(2**2)(5**2)\", \"Ошибка для числа 100\"\n",
    "    print(\"Все тесты для prime_factorization пройдены успешно!\")\n",
    "\n",
    "def demonstrate_factorization():\n",
    "    test_numbers = [86240, 12, 30, 100, 7, 8, 60]\n",
    "    \n",
    "    print(\"Демонстрация разложения на простые множители:\")\n",
    "    for num in test_numbers:\n",
    "        result = prime_factorization(num)\n",
    "        print(f\"{num} = {result}\")\n",
    "\n",
    "test_prime_factorization()\n",
    "\n",
    "print(\"\\n\")\n",
    "demonstrate_factorization()\n",
    "\n",
    "print(f\"\\nprime_factorization(86240): {prime_factorization(86240)}\")\n",
    "print(f\"prime_factorization(60): {prime_factorization(60)}\")\n",
    "print(f\"prime_factorization(7): {prime_factorization(7)}\")"
   ]
  },
  {
   "cell_type": "markdown",
   "metadata": {
    "id": "ps2s0BudX7A2"
   },
   "source": [
    "# Задача 7\n",
    "Написать функцию, принимающая целое число n, задающее количество кубиков. Функция\n",
    "должна определить, можно ли из данного кол-ва кубиков построить пирамиду, то есть\n",
    "можно ли представить число n как 1^2+2^2+3^2+…+k^2. Если можно, то функция должна\n",
    "вернуть k, иначе строку “It is impossible”. Написать тесты для кода"
   ]
  },
  {
   "cell_type": "code",
   "execution_count": null,
   "metadata": {
    "id": "3YPjEXxhX_YT"
   },
   "outputs": [
    {
     "name": "stdout",
     "output_type": "stream",
     "text": [
      "Все тесты для pyramid пройдены успешно!\n",
      "\n",
      "\n",
      "Демонстрация построения пирамиды:\n",
      "pyramid(1) = 1: 1² = 1\n",
      "pyramid(2) = It is impossible\n",
      "pyramid(3) = It is impossible\n",
      "pyramid(4) = It is impossible\n",
      "pyramid(5) = 2: 1² + 2² = 5\n",
      "pyramid(6) = It is impossible\n",
      "pyramid(7) = It is impossible\n",
      "pyramid(8) = It is impossible\n",
      "pyramid(9) = It is impossible\n",
      "pyramid(10) = It is impossible\n",
      "pyramid(11) = It is impossible\n",
      "pyramid(12) = It is impossible\n",
      "pyramid(13) = It is impossible\n",
      "pyramid(14) = 3: 1² + 2² + 3² = 14\n",
      "pyramid(15) = It is impossible\n",
      "\n",
      "pyramid(55): 5\n",
      "pyramid(100): It is impossible\n",
      "pyramid(204): 8\n"
     ]
    }
   ],
   "source": [
    "def pyramid(number):\n",
    "    if number <= 0:\n",
    "        return \"It is impossible\"\n",
    "    \n",
    "    k = 1\n",
    "    sum_squares = 0\n",
    "    \n",
    "    while sum_squares < number:\n",
    "        sum_squares += k * k\n",
    "        if sum_squares == number:\n",
    "            return k\n",
    "        k += 1\n",
    "    \n",
    "    return \"It is impossible\"\n",
    "\n",
    "def test_pyramid():\n",
    "    assert pyramid(1) == 1\n",
    "    assert pyramid(5) == 2\n",
    "    assert pyramid(14) == 3\n",
    "    assert pyramid(30) == 4\n",
    "    assert pyramid(2) == \"It is impossible\"\n",
    "    assert pyramid(3) == \"It is impossible\"\n",
    "    assert pyramid(4) == \"It is impossible\"\n",
    "    assert pyramid(6) == \"It is impossible\"\n",
    "    assert pyramid(0) == \"It is impossible\"\n",
    "    assert pyramid(-1) == \"It is impossible\"\n",
    "    assert pyramid(55) == 5\n",
    "    assert pyramid(91) == 6\n",
    "    print(\"Все тесты для pyramid пройдены успешно!\")\n",
    "\n",
    "def demonstrate_pyramid():\n",
    "    print(\"Демонстрация построения пирамиды:\")\n",
    "    \n",
    "    for n in range(1, 16):\n",
    "        result = pyramid(n)\n",
    "        if result != \"It is impossible\":\n",
    "            squares = []\n",
    "            sum_val = 0\n",
    "            for i in range(1, result + 1):\n",
    "                squares.append(f\"{i}²\")\n",
    "                sum_val += i * i\n",
    "            formula = \" + \".join(squares)\n",
    "            print(f\"pyramid({n}) = {result}: {formula} = {sum_val}\")\n",
    "        else:\n",
    "            print(f\"pyramid({n}) = {result}\")\n",
    "\n",
    "test_pyramid()\n",
    "\n",
    "print(\"\\n\")\n",
    "demonstrate_pyramid()\n",
    "\n",
    "print(f\"\\npyramid(55): {pyramid(55)}\")\n",
    "print(f\"pyramid(100): {pyramid(100)}\")\n",
    "print(f\"pyramid(204): {pyramid(204)}\")"
   ]
  },
  {
   "cell_type": "markdown",
   "metadata": {
    "id": "KeKgmIdAQMEJ"
   },
   "source": [
    "# Задача 8\n",
    "Функция принимает на вход положительное число и определяет является ли оно сбалансированным, т.е. сумма цифр до средних равна сумме цифр после. Средними в случае нечетного числа цифр считать одну цифру, в случае четного - две средних. Написать тесты для кода"
   ]
  },
  {
   "cell_type": "code",
   "execution_count": null,
   "metadata": {
    "id": "gMAAqtqlQrZt"
   },
   "outputs": [
    {
     "name": "stdout",
     "output_type": "stream",
     "text": [
      "Все тесты для is_balanced пройдены успешно!\n",
      "\n",
      "\n",
      "Демонстрация проверки сбалансированности:\n",
      "1: сбалансированное (однозначное)\n",
      "12: сбалансированное (двузначное, пустые суммы с обеих сторон)\n",
      "121: сбалансированное\n",
      "    Левая часть: 1 (сумма: 1), средняя: 2, правая часть: 1 (сумма: 1)\n",
      "132: НЕ сбалансированное\n",
      "    Левая часть: 1 (сумма: 1), средняя: 3, правая часть: 2 (сумма: 2)\n",
      "1221: сбалансированное\n",
      "    Левая часть: 1 (сумма: 1), средние: 22, правая часть: 1 (сумма: 1)\n",
      "1234: НЕ сбалансированное\n",
      "    Левая часть: 1 (сумма: 1), средние: 23, правая часть: 4 (сумма: 4)\n",
      "12321: сбалансированное\n",
      "    Левая часть: 12 (сумма: 3), средняя: 3, правая часть: 21 (сумма: 3)\n",
      "12345: НЕ сбалансированное\n",
      "    Левая часть: 12 (сумма: 3), средняя: 3, правая часть: 45 (сумма: 9)\n",
      "123321: сбалансированное\n",
      "    Левая часть: 12 (сумма: 3), средние: 33, правая часть: 21 (сумма: 3)\n",
      "\n",
      "is_balanced(121): True\n",
      "is_balanced(1221): True\n",
      "is_balanced(12321): True\n",
      "is_balanced(123456): False\n"
     ]
    }
   ],
   "source": [
    "def is_balanced(n):\n",
    "    if n <= 0:\n",
    "        return False\n",
    "    \n",
    "    digits = [int(d) for d in str(n)]\n",
    "    length = len(digits)\n",
    "    \n",
    "    if length == 1:\n",
    "        return True\n",
    "    \n",
    "    if length % 2 == 1:\n",
    "        middle = length // 2\n",
    "        left_sum = sum(digits[:middle])\n",
    "        right_sum = sum(digits[middle + 1:])\n",
    "    else:\n",
    "        middle = length // 2\n",
    "        left_sum = sum(digits[:middle - 1])\n",
    "        right_sum = sum(digits[middle + 1:])\n",
    "    \n",
    "    return left_sum == right_sum\n",
    "\n",
    "def test_is_balanced():\n",
    "    assert is_balanced(1) == True\n",
    "    assert is_balanced(9) == True\n",
    "    assert is_balanced(12) == True\n",
    "    assert is_balanced(99) == True\n",
    "    assert is_balanced(121) == True\n",
    "    assert is_balanced(132) == False\n",
    "    assert is_balanced(444) == True\n",
    "    assert is_balanced(1221) == True\n",
    "    assert is_balanced(1234) == False\n",
    "    assert is_balanced(1331) == True\n",
    "    assert is_balanced(12321) == True\n",
    "    assert is_balanced(12345) == False\n",
    "    assert is_balanced(123321) == True\n",
    "    assert is_balanced(123456) == False\n",
    "    assert is_balanced(0) == False\n",
    "    assert is_balanced(-1) == False\n",
    "    print(\"Все тесты для is_balanced пройдены успешно!\")\n",
    "\n",
    "def demonstrate_balanced():\n",
    "    test_numbers = [1, 12, 121, 132, 1221, 1234, 12321, 12345, 123321]\n",
    "    \n",
    "    print(\"Демонстрация проверки сбалансированности:\")\n",
    "    \n",
    "    for num in test_numbers:\n",
    "        digits = str(num)\n",
    "        length = len(digits)\n",
    "        result = is_balanced(num)\n",
    "        \n",
    "        if length == 1:\n",
    "            print(f\"{num}: сбалансированное (однозначное)\")\n",
    "        elif length == 2:\n",
    "            print(f\"{num}: сбалансированное (двузначное, пустые суммы с обеих сторон)\")\n",
    "        elif length % 2 == 1:\n",
    "            middle = length // 2\n",
    "            left = digits[:middle]\n",
    "            center = digits[middle]\n",
    "            right = digits[middle + 1:]\n",
    "            left_sum = sum(int(d) for d in left) if left else 0\n",
    "            right_sum = sum(int(d) for d in right) if right else 0\n",
    "            print(f\"{num}: {'сбалансированное' if result else 'НЕ сбалансированное'}\")\n",
    "            print(f\"    Левая часть: {left} (сумма: {left_sum}), средняя: {center}, правая часть: {right} (сумма: {right_sum})\")\n",
    "        else:\n",
    "            middle = length // 2\n",
    "            left = digits[:middle - 1]\n",
    "            center = digits[middle - 1:middle + 1]\n",
    "            right = digits[middle + 1:]\n",
    "            left_sum = sum(int(d) for d in left) if left else 0\n",
    "            right_sum = sum(int(d) for d in right) if right else 0\n",
    "            print(f\"{num}: {'сбалансированное' if result else 'НЕ сбалансированное'}\")\n",
    "            print(f\"    Левая часть: {left} (сумма: {left_sum}), средние: {center}, правая часть: {right} (сумма: {right_sum})\")\n",
    "\n",
    "test_is_balanced()\n",
    "\n",
    "print(\"\\n\")\n",
    "demonstrate_balanced()\n",
    "\n",
    "print(f\"\\nis_balanced(121): {is_balanced(121)}\")\n",
    "print(f\"is_balanced(1221): {is_balanced(1221)}\")\n",
    "print(f\"is_balanced(12321): {is_balanced(12321)}\")\n",
    "print(f\"is_balanced(123456): {is_balanced(123456)}\")"
   ]
  }
 ],
 "metadata": {
  "colab": {
   "provenance": []
  },
  "kernelspec": {
   "display_name": "Python 3",
   "name": "python3"
  },
  "language_info": {
   "codemirror_mode": {
    "name": "ipython",
    "version": 3
   },
   "file_extension": ".py",
   "mimetype": "text/x-python",
   "name": "python",
   "nbconvert_exporter": "python",
   "pygments_lexer": "ipython3",
   "version": "3.12.3"
  }
 },
 "nbformat": 4,
 "nbformat_minor": 0
}
